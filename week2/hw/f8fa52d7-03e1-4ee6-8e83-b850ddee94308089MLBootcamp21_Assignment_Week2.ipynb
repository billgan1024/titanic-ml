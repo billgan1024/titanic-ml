{
 "cells": [
  {
   "cell_type": "markdown",
   "metadata": {
    "id": "8l_X4y9_xF1k"
   },
   "source": [
    "ML Bootcamp 2021 - Week 2: Assignment\n",
    "\n",
    "- In this week you will learn more about the Pandas library and implement Logistic Regression\n",
    "- The comments will have most of the instructiions\n",
    "- Attempt the questions using only python/pandas as much as possible as it is a very in-demand skill right now and learning it will be beneficial\n",
    "- Use the Titanic Training dataset for all questions unless specified to use Test dataset"
   ]
  },
  {
   "cell_type": "code",
   "execution_count": 12,
   "metadata": {
    "id": "0DPAiRhTlID6"
   },
   "outputs": [],
   "source": [
    "#Import the necessary libraries here\n",
    "import numpy as np\n",
    "import pandas as pd\n",
    "from sklearn.linear_model import LogisticRegression # The Machine Learnig Algorithms\n",
    "from sklearn.metrics import classification_report, mean_squared_error\n",
    "from sklearn.model_selection import train_test_split\n",
    "from sklearn.preprocessing import StandardScaler\n",
    "df = pd.read_csv(\"./train.csv\")\n",
    "df.dropna(inplace=True)"
   ]
  },
  {
   "cell_type": "markdown",
   "metadata": {
    "id": "2KyORngMzaL1"
   },
   "source": [
    "## Q1. What is the most frequently occuring age for male and female? If more than one particular age occurs equal number of times, report the higher of the two"
   ]
  },
  {
   "cell_type": "code",
   "execution_count": 13,
   "metadata": {
    "id": "uez0srlPnxj8"
   },
   "outputs": [],
   "source": [
    "# Write your code below the comments in this cell\n",
    "# Important\n",
    "# Save your female age value in a variable called 'age_female'\n",
    "# Save your male age value in a variable called 'age_male'\n",
    "\n",
    "####Code Comes Here###\n",
    "\n",
    "###Code Comes Here###\n",
    "\n",
    "###Answers come here###\n",
    "\n",
    "age_female = df[\"Age\"][df[\"Sex\"] == \"female\"].mode()\n",
    "age_male = df[\"Age\"][df[\"Sex\"] == \"male\"].mode()\n",
    "###Answers come here###"
   ]
  },
  {
   "cell_type": "markdown",
   "metadata": {
    "id": "UMTcBlpL0aL3"
   },
   "source": [
    "## Q2. Convert the 'Sex' feature of the Train dataset into categorical feature. This question would require you to first read about categorical features and how they look before proceeding.\n",
    "\n",
    "- Read about categorical data first: https://www.kdnuggets.com/2021/05/deal-with-categorical-data-machine-learning.html\n",
    "- Create a new column called \"Sex_Category\"\n",
    "- Use the lambda and apply function to perform this task"
   ]
  },
  {
   "cell_type": "code",
   "execution_count": 91,
   "metadata": {
    "id": "EzArtUHCz9i0"
   },
   "outputs": [],
   "source": [
    "# Write your code below the comments in this cell\n",
    "# Important\n",
    "# Finally your dataframe should have an additional column called \"Sex_Category\"\n",
    "# This \"Sex_Category\" column should have the entry as 1 wherever the column \"Sex\" shows \"female\" and 0 wherever it shows \"male\"\n",
    "# Do not remove the existing \"Sex\" column, instead create a new column based on this existing column\n",
    "# I have already provided the code to create a new column for your dataframe called \"df\"\n",
    "# Refer to the previous notebooks for reference\n",
    "\n",
    "####Code Comes Here###\n",
    "\n",
    "# append a new column\n",
    "df['Sex_Category'] = df[\"Sex\"].apply(lambda x: 1 if x == \"female\" else 0)\n",
    "\n",
    "###Code Comes Here###"
   ]
  },
  {
   "cell_type": "markdown",
   "metadata": {
    "id": "4L-V8lV_4EO5"
   },
   "source": [
    "## Q3. Consider the \"Age\" and the \"Fare\" columns. These are known as Numerical features. Sometimes it is a good idea to scale these features(bring all the numerical features to one scale maybe between {0,1} or between {-1,1} so that the weights are not biased across the features\n",
    "\n",
    "- Bring these two features to a common scale\n",
    "- There are many techniques to do this and scikit-learn provides many built-in libraries. Try to explore them and see how you can apply them. You would need to import the appropriate libraries\n",
    "- You can use anyone. Without using scikit-learn, the simplest scaler that you can implement manually is to make the mean 0 and standard deviation as 1\n",
    "- In order to do this manual implementation all you need to do is take each value of \"Age\" and \"Fare\", subtract the mean(mean of full column) from each value and then divide that result by the standard devaition(standard deviation of full column)\n",
    "- If you decide to use the manual process then take the mean of all values except the NULL/Missing values as otherwise you may get an error"
   ]
  },
  {
   "cell_type": "code",
   "execution_count": 94,
   "metadata": {
    "id": "M0DTidbd1w8o"
   },
   "outputs": [],
   "source": [
    "# Write your code below the comments in this cell\n",
    "# Important\n",
    "# Finally your dataframe should have two additional columns called \"Age_Normalized\" and \"Fare_Normalized\"\n",
    "# Do not remove the existing \"Age\" or \"Fare\" column, instead create new columns based on these existing columns\n",
    "# Refer to the previous notebooks for reference and also Q2 to understand how to add new columns to an existing dataframe\n",
    "# Use the apply and lambda function to perform the calculations\n",
    "# If you choose to use the scikit-learn libraries then make sure to import them first at the very top cell\n",
    "\n",
    "####Code Comes Here###\n",
    "\n",
    "scaler = StandardScaler()\n",
    "df[\"Age_Normalized\"] = scaler.fit_transform(df[[\"Age\"]])\n",
    "df[\"Fare_Normalized\"] = scaler.fit_transform(df[[\"Fare\"]])\n",
    "###Code Comes Here###"
   ]
  },
  {
   "cell_type": "code",
   "execution_count": 95,
   "metadata": {},
   "outputs": [
    {
     "output_type": "execute_result",
     "data": {
      "text/plain": [
       "     PassengerId  Survived  Pclass  \\\n",
       "1              2         1       1   \n",
       "3              4         1       1   \n",
       "6              7         0       1   \n",
       "10            11         1       3   \n",
       "11            12         1       1   \n",
       "..           ...       ...     ...   \n",
       "871          872         1       1   \n",
       "872          873         0       1   \n",
       "879          880         1       1   \n",
       "887          888         1       1   \n",
       "889          890         1       1   \n",
       "\n",
       "                                                  Name     Sex   Age  SibSp  \\\n",
       "1    Cumings, Mrs. John Bradley (Florence Briggs Th...  female  38.0      1   \n",
       "3         Futrelle, Mrs. Jacques Heath (Lily May Peel)  female  35.0      1   \n",
       "6                              McCarthy, Mr. Timothy J    male  54.0      0   \n",
       "10                     Sandstrom, Miss. Marguerite Rut  female   4.0      1   \n",
       "11                            Bonnell, Miss. Elizabeth  female  58.0      0   \n",
       "..                                                 ...     ...   ...    ...   \n",
       "871   Beckwith, Mrs. Richard Leonard (Sallie Monypeny)  female  47.0      1   \n",
       "872                           Carlsson, Mr. Frans Olof    male  33.0      0   \n",
       "879      Potter, Mrs. Thomas Jr (Lily Alexenia Wilson)  female  56.0      0   \n",
       "887                       Graham, Miss. Margaret Edith  female  19.0      0   \n",
       "889                              Behr, Mr. Karl Howell    male  26.0      0   \n",
       "\n",
       "     Parch    Ticket     Fare        Cabin Embarked  Sex_Category  \\\n",
       "1        0  PC 17599  71.2833          C85        C             1   \n",
       "3        0    113803  53.1000         C123        S             1   \n",
       "6        0     17463  51.8625          E46        S             0   \n",
       "10       1   PP 9549  16.7000           G6        S             1   \n",
       "11       0    113783  26.5500         C103        S             1   \n",
       "..     ...       ...      ...          ...      ...           ...   \n",
       "871      1     11751  52.5542          D35        S             1   \n",
       "872      0       695   5.0000  B51 B53 B55        S             0   \n",
       "879      1     11767  83.1583          C50        C             1   \n",
       "887      0    112053  30.0000          B42        S             1   \n",
       "889      0    111369  30.0000         C148        C             0   \n",
       "\n",
       "     Age_Normalized  Fare_Normalized  \n",
       "1          0.149065        -0.097180  \n",
       "3         -0.043230        -0.335997  \n",
       "6          1.174636        -0.352250  \n",
       "10        -2.030273        -0.814070  \n",
       "11         1.431029        -0.684702  \n",
       "..              ...              ...  \n",
       "871        0.725949        -0.343166  \n",
       "872       -0.171426        -0.967737  \n",
       "879        1.302832         0.058785  \n",
       "887       -1.068801        -0.639390  \n",
       "889       -0.620113        -0.639390  \n",
       "\n",
       "[183 rows x 15 columns]"
      ],
      "text/html": "<div>\n<style scoped>\n    .dataframe tbody tr th:only-of-type {\n        vertical-align: middle;\n    }\n\n    .dataframe tbody tr th {\n        vertical-align: top;\n    }\n\n    .dataframe thead th {\n        text-align: right;\n    }\n</style>\n<table border=\"1\" class=\"dataframe\">\n  <thead>\n    <tr style=\"text-align: right;\">\n      <th></th>\n      <th>PassengerId</th>\n      <th>Survived</th>\n      <th>Pclass</th>\n      <th>Name</th>\n      <th>Sex</th>\n      <th>Age</th>\n      <th>SibSp</th>\n      <th>Parch</th>\n      <th>Ticket</th>\n      <th>Fare</th>\n      <th>Cabin</th>\n      <th>Embarked</th>\n      <th>Sex_Category</th>\n      <th>Age_Normalized</th>\n      <th>Fare_Normalized</th>\n    </tr>\n  </thead>\n  <tbody>\n    <tr>\n      <th>1</th>\n      <td>2</td>\n      <td>1</td>\n      <td>1</td>\n      <td>Cumings, Mrs. John Bradley (Florence Briggs Th...</td>\n      <td>female</td>\n      <td>38.0</td>\n      <td>1</td>\n      <td>0</td>\n      <td>PC 17599</td>\n      <td>71.2833</td>\n      <td>C85</td>\n      <td>C</td>\n      <td>1</td>\n      <td>0.149065</td>\n      <td>-0.097180</td>\n    </tr>\n    <tr>\n      <th>3</th>\n      <td>4</td>\n      <td>1</td>\n      <td>1</td>\n      <td>Futrelle, Mrs. Jacques Heath (Lily May Peel)</td>\n      <td>female</td>\n      <td>35.0</td>\n      <td>1</td>\n      <td>0</td>\n      <td>113803</td>\n      <td>53.1000</td>\n      <td>C123</td>\n      <td>S</td>\n      <td>1</td>\n      <td>-0.043230</td>\n      <td>-0.335997</td>\n    </tr>\n    <tr>\n      <th>6</th>\n      <td>7</td>\n      <td>0</td>\n      <td>1</td>\n      <td>McCarthy, Mr. Timothy J</td>\n      <td>male</td>\n      <td>54.0</td>\n      <td>0</td>\n      <td>0</td>\n      <td>17463</td>\n      <td>51.8625</td>\n      <td>E46</td>\n      <td>S</td>\n      <td>0</td>\n      <td>1.174636</td>\n      <td>-0.352250</td>\n    </tr>\n    <tr>\n      <th>10</th>\n      <td>11</td>\n      <td>1</td>\n      <td>3</td>\n      <td>Sandstrom, Miss. Marguerite Rut</td>\n      <td>female</td>\n      <td>4.0</td>\n      <td>1</td>\n      <td>1</td>\n      <td>PP 9549</td>\n      <td>16.7000</td>\n      <td>G6</td>\n      <td>S</td>\n      <td>1</td>\n      <td>-2.030273</td>\n      <td>-0.814070</td>\n    </tr>\n    <tr>\n      <th>11</th>\n      <td>12</td>\n      <td>1</td>\n      <td>1</td>\n      <td>Bonnell, Miss. Elizabeth</td>\n      <td>female</td>\n      <td>58.0</td>\n      <td>0</td>\n      <td>0</td>\n      <td>113783</td>\n      <td>26.5500</td>\n      <td>C103</td>\n      <td>S</td>\n      <td>1</td>\n      <td>1.431029</td>\n      <td>-0.684702</td>\n    </tr>\n    <tr>\n      <th>...</th>\n      <td>...</td>\n      <td>...</td>\n      <td>...</td>\n      <td>...</td>\n      <td>...</td>\n      <td>...</td>\n      <td>...</td>\n      <td>...</td>\n      <td>...</td>\n      <td>...</td>\n      <td>...</td>\n      <td>...</td>\n      <td>...</td>\n      <td>...</td>\n      <td>...</td>\n    </tr>\n    <tr>\n      <th>871</th>\n      <td>872</td>\n      <td>1</td>\n      <td>1</td>\n      <td>Beckwith, Mrs. Richard Leonard (Sallie Monypeny)</td>\n      <td>female</td>\n      <td>47.0</td>\n      <td>1</td>\n      <td>1</td>\n      <td>11751</td>\n      <td>52.5542</td>\n      <td>D35</td>\n      <td>S</td>\n      <td>1</td>\n      <td>0.725949</td>\n      <td>-0.343166</td>\n    </tr>\n    <tr>\n      <th>872</th>\n      <td>873</td>\n      <td>0</td>\n      <td>1</td>\n      <td>Carlsson, Mr. Frans Olof</td>\n      <td>male</td>\n      <td>33.0</td>\n      <td>0</td>\n      <td>0</td>\n      <td>695</td>\n      <td>5.0000</td>\n      <td>B51 B53 B55</td>\n      <td>S</td>\n      <td>0</td>\n      <td>-0.171426</td>\n      <td>-0.967737</td>\n    </tr>\n    <tr>\n      <th>879</th>\n      <td>880</td>\n      <td>1</td>\n      <td>1</td>\n      <td>Potter, Mrs. Thomas Jr (Lily Alexenia Wilson)</td>\n      <td>female</td>\n      <td>56.0</td>\n      <td>0</td>\n      <td>1</td>\n      <td>11767</td>\n      <td>83.1583</td>\n      <td>C50</td>\n      <td>C</td>\n      <td>1</td>\n      <td>1.302832</td>\n      <td>0.058785</td>\n    </tr>\n    <tr>\n      <th>887</th>\n      <td>888</td>\n      <td>1</td>\n      <td>1</td>\n      <td>Graham, Miss. Margaret Edith</td>\n      <td>female</td>\n      <td>19.0</td>\n      <td>0</td>\n      <td>0</td>\n      <td>112053</td>\n      <td>30.0000</td>\n      <td>B42</td>\n      <td>S</td>\n      <td>1</td>\n      <td>-1.068801</td>\n      <td>-0.639390</td>\n    </tr>\n    <tr>\n      <th>889</th>\n      <td>890</td>\n      <td>1</td>\n      <td>1</td>\n      <td>Behr, Mr. Karl Howell</td>\n      <td>male</td>\n      <td>26.0</td>\n      <td>0</td>\n      <td>0</td>\n      <td>111369</td>\n      <td>30.0000</td>\n      <td>C148</td>\n      <td>C</td>\n      <td>0</td>\n      <td>-0.620113</td>\n      <td>-0.639390</td>\n    </tr>\n  </tbody>\n</table>\n<p>183 rows × 15 columns</p>\n</div>"
     },
     "metadata": {},
     "execution_count": 95
    }
   ],
   "source": [
    "df"
   ]
  },
  {
   "cell_type": "markdown",
   "metadata": {
    "id": "sNUtClA27s6G"
   },
   "source": [
    "## Q4. Implement the ****Logistic**** function in Python based on the formula provided in the slides. All you need is provided in the numpy module or math module. There is a mistake, the place where I mention \"Logit\" function in the slides it is actually called \"Logistic\" function and not Logit function"
   ]
  },
  {
   "cell_type": "code",
   "execution_count": 96,
   "metadata": {
    "id": "UgXjuJDd597r"
   },
   "outputs": [],
   "source": [
    "# Write your code below the comments in this cell\n",
    "# Important\n",
    "# Define a function and name it \"logistic_fn\"\n",
    "# Return the final result of the logistic function\n",
    "# The equation of the logistic function is present in the slides\n",
    "####Code Comes Here###\n",
    "def logistic_fn(x):\n",
    "    return 1/(1+np.exp(-x))\n",
    "\n",
    "###Code Comes Here###\n",
    "\n",
    "#Verification\n",
    "# logistic_fn(1) --> 0.7310585786300049"
   ]
  },
  {
   "cell_type": "markdown",
   "metadata": {
    "id": "DGxKCzty93lN"
   },
   "source": [
    "## Q5. Using the above newly generated features, \"Age_Normalized\", \"Fare_Normalized\", \"Sex_Category\" and ****any other feature of your choice****. Implement the Logistic Regression Function just as was described in the last class notebook\n",
    "\n",
    "- Import the Logistic Regression Function from scikit-learn\n",
    "- Select the appropriate features first from your dataframe\n",
    "- Create appropriate variables called x_train, x_test, y_train, y_test using the splitting function showed before. Split the Training dataset itself into two parts: Training and Testing(also called Validation)\n",
    "- Use all the features that you created now and REMEMBER, an ML model only accepts Numerical features. Now you will understand the importance of converting categorical data to numbers\n",
    "- Then train/fit() your training data to the Logistic Regression Model and then test/predict() it on your test dataset\n",
    "- ****The problem here is \"Titanic Survival Prediction\". From this name think about what is the output/label for this classification task. That single column will be your y_train/y_test. It was also accounced in class as well****\n",
    "\n",
    "- Keep the \"random_state\" paramenter inside the Logistic Regression function as any number of your choice and and report that number when submitting the assignment so that I can recreate your results. That number can be any integer\n",
    "\n",
    "- Print out the classification_report as shown during the class"
   ]
  },
  {
   "cell_type": "code",
   "execution_count": 100,
   "metadata": {},
   "outputs": [
    {
     "output_type": "stream",
     "name": "stdout",
     "text": [
      "              precision    recall  f1-score   support\n\n           0       0.62      0.71      0.67         7\n           1       0.82      0.75      0.78        12\n\n    accuracy                           0.74        19\n   macro avg       0.72      0.73      0.72        19\nweighted avg       0.75      0.74      0.74        19\n\n"
     ]
    }
   ],
   "source": [
    "x_train, x_test, y_train, y_test = train_test_split(df[[\"Age_Normalized\", \"Fare_Normalized\", \"Sex_Category\", \"SibSp\"]], df[\"Survived\"],test_size=0.1, random_state=2) \n",
    "log_reg = LogisticRegression()\n",
    "log_reg.fit(x_train,y_train)\n",
    "predictions = log_reg.predict(x_test)\n",
    "print(classification_report(y_test,predictions))"
   ]
  },
  {
   "cell_type": "code",
   "execution_count": null,
   "metadata": {},
   "outputs": [],
   "source": []
  }
 ],
 "metadata": {
  "colab": {
   "collapsed_sections": [],
   "name": "MLBootcamp21_Assignment_Week2.ipynb",
   "provenance": []
  },
  "kernelspec": {
   "name": "python3",
   "display_name": "Python 3.9.5 64-bit"
  },
  "language_info": {
   "codemirror_mode": {
    "name": "ipython",
    "version": 3
   },
   "file_extension": ".py",
   "mimetype": "text/x-python",
   "name": "python",
   "nbconvert_exporter": "python",
   "pygments_lexer": "ipython3",
   "version": "3.9.5"
  },
  "interpreter": {
   "hash": "63fd5069d213b44bf678585dea6b12cceca9941eaf7f819626cde1f2670de90d"
  }
 },
 "nbformat": 4,
 "nbformat_minor": 1
}